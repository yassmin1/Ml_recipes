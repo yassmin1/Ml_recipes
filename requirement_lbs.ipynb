{
 "cells": [
  {
   "cell_type": "code",
   "execution_count": 32,
   "metadata": {},
   "outputs": [],
   "source": [
    "import os\n",
    "import ast\n",
    "import json\n",
    "\n",
    "\n",
    "# Set the directory to search for code files\n",
    "\n",
    "def create_requirement_file(dir_path):\n",
    "    # Initialize a set to store the imported libraries\n",
    "    required_libs = set()\n",
    "\n",
    "    # Recursively search the directory for Python scripts and Jupyter notebooks\n",
    "    for root, dirs, files in os.walk(dir_path):\n",
    "        for file in files:\n",
    "            if file.endswith('.py'):\n",
    "                # Parse the Python script's AST to extract the imported libraries\n",
    "                with open(os.path.join(root, file), 'r') as f:\n",
    "                    tree = ast.parse(f.read())\n",
    "                    for node in tree.body:\n",
    "                        if isinstance(node, ast.Import):\n",
    "                            for alias in node.names:\n",
    "                                required_libs.add(alias.name.split('.')[0])\n",
    "                        elif isinstance(node, ast.ImportFrom):\n",
    "                            required_libs.add(node.module.split('.')[0])\n",
    "            elif file.endswith('.ipynb'):\n",
    "                # Load the Jupyter notebook as a JSON object\n",
    "                with open(os.path.join(root, file), 'r') as f:\n",
    "                    notebook = json.load(f)\n",
    "\n",
    "                # Extract the imported libraries from the Jupyter notebook\n",
    "                for cell in notebook['cells']:\n",
    "                    if cell['cell_type'] == 'code':\n",
    "                        for line in cell['source']:\n",
    "                            if line.startswith('import'):\n",
    "                                libs = line.split()[1]\n",
    "                                #print(libs)\n",
    "                            \n",
    "                                try:\n",
    "                                    required_libs.add(libs.split('.')[0])\n",
    "                                except:  \n",
    "                                    required_libs.add(libs)\n",
    "                            elif line.startswith('from'):\n",
    "                                libs = line.split()[1]\n",
    "                                #print(libs)\n",
    "                        \n",
    "                                try:\n",
    "                                    required_libs.add(libs.split('.')[0])\n",
    "                                except:  \n",
    "                                    required_libs.add(libs)\n",
    "    \n",
    "        # Write the required libraries to a requirements.txt file\n",
    "    with open('requirements.txt', 'w') as f:\n",
    "        f.write('\\n'.join(sorted(required_libs)))\n",
    "        \n",
    "        \n",
    "    \n"
   ]
  },
  {
   "cell_type": "code",
   "execution_count": 37,
   "metadata": {},
   "outputs": [
    {
     "name": "stdout",
     "output_type": "stream",
     "text": [
      " Volume in drive C has no label.\n",
      " Volume Serial Number is 8EC2-7F0E\n",
      "\n",
      " Directory of c:\\dataglacier_practice\\ML_recipes\n",
      "\n",
      "\n",
      " Directory of c:\\dataglacier_practice\\ML_recipes\n",
      "\n",
      "03/24/2023  03:02 PM                72 requirements.txt\n",
      "               1 File(s)             72 bytes\n",
      "               0 Dir(s)  337,857,146,880 bytes free\n"
     ]
    }
   ],
   "source": [
    "dir_path = r'C:\\Users\\Rayan\\OneDrive\\GreatLearning_DSBA\\time_series_course\\week2'\n",
    "create_requirement_file(dir_path)\n",
    "!dir -p requirements.txt\n"
   ]
  },
  {
   "cell_type": "code",
   "execution_count": null,
   "metadata": {},
   "outputs": [],
   "source": []
  }
 ],
 "metadata": {
  "kernelspec": {
   "display_name": "pgds_program",
   "language": "python",
   "name": "python3"
  },
  "language_info": {
   "codemirror_mode": {
    "name": "ipython",
    "version": 3
   },
   "file_extension": ".py",
   "mimetype": "text/x-python",
   "name": "python",
   "nbconvert_exporter": "python",
   "pygments_lexer": "ipython3",
   "version": "3.10.4"
  },
  "orig_nbformat": 4
 },
 "nbformat": 4,
 "nbformat_minor": 2
}
