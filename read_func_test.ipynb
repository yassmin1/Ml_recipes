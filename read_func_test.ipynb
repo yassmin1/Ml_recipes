{
 "cells": [
  {
   "cell_type": "code",
   "execution_count": null,
   "metadata": {},
   "outputs": [],
   "source": [
    "import requests\n",
    "import io\n",
    "import sys\n",
    "\n",
    "url = 'https://raw.githubusercontent.com/{username}/{repository}/{branch}/{path_to_file}'\n",
    "r = requests.get(url)\n",
    "r.raise_for_status()\n",
    "\n",
    "exec(r.text)\n",
    "\n",
    "from notebook_name import function_name\n"
   ]
  },
  {
   "cell_type": "code",
   "execution_count": null,
   "metadata": {},
   "outputs": [],
   "source": [
    "pip install git+https://github.com/<username>/<repository>.git\n",
    "from repo import functions "
   ]
  }
 ],
 "metadata": {
  "language_info": {
   "name": "python"
  },
  "orig_nbformat": 4
 },
 "nbformat": 4,
 "nbformat_minor": 2
}
